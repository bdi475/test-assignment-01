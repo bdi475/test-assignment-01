{
 "cells": [
  {
   "cell_type": "code",
   "execution_count": 1,
   "id": "236fc49b-96aa-4830-8eb2-d8ee55bbc124",
   "metadata": {},
   "outputs": [
    {
     "name": "stdout",
     "output_type": "stream",
     "text": [
      "3\n"
     ]
    }
   ],
   "source": [
    "x = 1\n",
    "y = 2\n",
    "\n",
    "# YOUR CODE BEGINS\n",
    "sum_xy = x + y\n",
    "# YOUR CODE ENDS\n",
    "\n",
    "print(sum_xy)"
   ]
  },
  {
   "cell_type": "code",
   "execution_count": 2,
   "id": "07e9e289-64ea-4188-b209-a98215206676",
   "metadata": {},
   "outputs": [],
   "source": [
    "_test_case = \"calculate-sum\"\n",
    "_points = 2\n",
    "\n",
    "assert sum_xy == 3"
   ]
  }
 ],
 "metadata": {
  "kernelspec": {
   "display_name": "Python 3 (ipykernel)",
   "language": "python",
   "name": "python3"
  },
  "language_info": {
   "codemirror_mode": {
    "name": "ipython",
    "version": 3
   },
   "file_extension": ".py",
   "mimetype": "text/x-python",
   "name": "python",
   "nbconvert_exporter": "python",
   "pygments_lexer": "ipython3",
   "version": "3.10.10"
  }
 },
 "nbformat": 4,
 "nbformat_minor": 5
}
